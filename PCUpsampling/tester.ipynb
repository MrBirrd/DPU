{
 "cells": [
  {
   "cell_type": "code",
   "execution_count": 5,
   "metadata": {},
   "outputs": [],
   "source": [
    "import torch\n",
    "from torch.cuda.amp import autocast"
   ]
  },
  {
   "cell_type": "markdown",
   "metadata": {},
   "source": [
    "# Feature Extractor"
   ]
  },
  {
   "cell_type": "code",
   "execution_count": 3,
   "metadata": {},
   "outputs": [
    {
     "name": "stdout",
     "output_type": "stream",
     "text": [
      "nvcc: NVIDIA (R) Cuda compiler driver\n",
      "Copyright (c) 2005-2022 NVIDIA Corporation\n",
      "Built on Tue_May__3_18:49:52_PDT_2022\n",
      "Cuda compilation tools, release 11.7, V11.7.64\n",
      "Build cuda_11.7.r11.7/compiler.31294372_0\n"
     ]
    }
   ],
   "source": [
    "!export CUDA_HOME=/usr/local/cuda-11.7\n",
    "!export LD_LIBRARY_PATH=/usr/local/cuda-11.7/lib\n",
    "!nvcc -V"
   ]
  },
  {
   "cell_type": "code",
   "execution_count": 2,
   "metadata": {},
   "outputs": [
    {
     "name": "stderr",
     "output_type": "stream",
     "text": [
      "Using /home/mathi/.cache/torch_extensions/py310_cu117 as PyTorch extensions root...\n",
      "No modifications detected for re-loaded extension module _pvcnn_backend, skipping build step...\n",
      "Loading extension module _pvcnn_backend...\n"
     ]
    }
   ],
   "source": [
    "from model.pvcnn_generation import PVCNNFeatures\n",
    "import torch"
   ]
  },
  {
   "cell_type": "code",
   "execution_count": 3,
   "metadata": {},
   "outputs": [],
   "source": [
    "model = PVCNNFeatures(input_dim=3, extra_feature_channels=0).cuda()"
   ]
  },
  {
   "cell_type": "code",
   "execution_count": 14,
   "metadata": {},
   "outputs": [],
   "source": [
    "test = torch.randn(3, 3, 2048*8)"
   ]
  },
  {
   "cell_type": "code",
   "execution_count": 15,
   "metadata": {},
   "outputs": [],
   "source": [
    "feats = model(test.cuda())"
   ]
  },
  {
   "cell_type": "code",
   "execution_count": 16,
   "metadata": {},
   "outputs": [
    {
     "name": "stdout",
     "output_type": "stream",
     "text": [
      "torch.Size([3, 512, 16])\n",
      "torch.Size([3, 256, 64])\n",
      "torch.Size([3, 256, 256])\n",
      "torch.Size([3, 128, 1024])\n"
     ]
    }
   ],
   "source": [
    "for f in feats:\n",
    "    print(f.shape)"
   ]
  },
  {
   "cell_type": "markdown",
   "metadata": {},
   "source": [
    "# RIN"
   ]
  },
  {
   "cell_type": "code",
   "execution_count": 3,
   "metadata": {},
   "outputs": [],
   "source": [
    "from model.recurrent_interface_network import RIN"
   ]
  },
  {
   "cell_type": "markdown",
   "metadata": {},
   "source": [
    "# Gridding"
   ]
  },
  {
   "cell_type": "code",
   "execution_count": 6,
   "metadata": {},
   "outputs": [
    {
     "ename": "KeyboardInterrupt",
     "evalue": "",
     "output_type": "error",
     "traceback": [
      "\u001b[0;31m---------------------------------------------------------------------------\u001b[0m",
      "\u001b[0;31mKeyboardInterrupt\u001b[0m                         Traceback (most recent call last)",
      "\u001b[1;32m/mnt/c/Users/mathi/Documents/GitHub/DPU/PCUpsampling/tester.ipynb Cell 3\u001b[0m line \u001b[0;36m6\n\u001b[1;32m      <a href='vscode-notebook-cell://wsl%2Bubuntu/mnt/c/Users/mathi/Documents/GitHub/DPU/PCUpsampling/tester.ipynb#W2sdnNjb2RlLXJlbW90ZQ%3D%3D?line=1'>2</a>\u001b[0m \u001b[39mimport\u001b[39;00m \u001b[39mnumpy\u001b[39;00m \u001b[39mas\u001b[39;00m \u001b[39mnp\u001b[39;00m\n\u001b[1;32m      <a href='vscode-notebook-cell://wsl%2Bubuntu/mnt/c/Users/mathi/Documents/GitHub/DPU/PCUpsampling/tester.ipynb#W2sdnNjb2RlLXJlbW90ZQ%3D%3D?line=3'>4</a>\u001b[0m cloud \u001b[39m=\u001b[39m \u001b[39m\"\u001b[39m\u001b[39m../3d/421378.ply\u001b[39m\u001b[39m\"\u001b[39m\n\u001b[0;32m----> <a href='vscode-notebook-cell://wsl%2Bubuntu/mnt/c/Users/mathi/Documents/GitHub/DPU/PCUpsampling/tester.ipynb#W2sdnNjb2RlLXJlbW90ZQ%3D%3D?line=5'>6</a>\u001b[0m pc \u001b[39m=\u001b[39m o3d\u001b[39m.\u001b[39;49mio\u001b[39m.\u001b[39;49mread_point_cloud(cloud)\n\u001b[1;32m      <a href='vscode-notebook-cell://wsl%2Bubuntu/mnt/c/Users/mathi/Documents/GitHub/DPU/PCUpsampling/tester.ipynb#W2sdnNjb2RlLXJlbW90ZQ%3D%3D?line=6'>7</a>\u001b[0m pcnpy \u001b[39m=\u001b[39m np\u001b[39m.\u001b[39masarray(pc\u001b[39m.\u001b[39mpoints)\n",
      "\u001b[0;31mKeyboardInterrupt\u001b[0m: "
     ]
    }
   ],
   "source": [
    "import open3d as o3d\n",
    "import numpy as np\n",
    "\n",
    "cloud = \"../3d/421378.ply\"\n",
    "\n",
    "pc = o3d.io.read_point_cloud(cloud)\n",
    "pcnpy = np.asarray(pc.points)"
   ]
  },
  {
   "cell_type": "code",
   "execution_count": null,
   "metadata": {},
   "outputs": [],
   "source": [
    "pcnpy.shape"
   ]
  },
  {
   "cell_type": "code",
   "execution_count": null,
   "metadata": {},
   "outputs": [],
   "source": [
    "point_cloud = pcnpy\n",
    "# substract center\n",
    "point_cloud -= np.mean(point_cloud, axis=0)"
   ]
  },
  {
   "cell_type": "code",
   "execution_count": null,
   "metadata": {},
   "outputs": [],
   "source": [
    "results[3]"
   ]
  },
  {
   "cell_type": "markdown",
   "metadata": {},
   "source": [
    "# Datasets"
   ]
  },
  {
   "cell_type": "code",
   "execution_count": 2,
   "metadata": {},
   "outputs": [],
   "source": [
    "!export CUDA_HOME=/usr/local/cuda-11.7"
   ]
  },
  {
   "cell_type": "code",
   "execution_count": 3,
   "metadata": {},
   "outputs": [
    {
     "name": "stderr",
     "output_type": "stream",
     "text": [
      "Using /home/mathi/.cache/torch_extensions/py310_cu117 as PyTorch extensions root...\n",
      "No modifications detected for re-loaded extension module _pvcnn_backend, skipping build step...\n",
      "Loading extension module _pvcnn_backend...\n"
     ]
    }
   ],
   "source": [
    "from data.dataloader import get_dataloader\n",
    "from omegaconf import OmegaConf"
   ]
  },
  {
   "cell_type": "code",
   "execution_count": 4,
   "metadata": {},
   "outputs": [
    {
     "name": "stderr",
     "output_type": "stream",
     "text": [
      "\u001b[32m2023-10-12 17:10:20.070\u001b[0m | \u001b[1mINFO    \u001b[0m | \u001b[36mdata.dataloader\u001b[0m:\u001b[36mget_dataloader\u001b[0m:\u001b[36m43\u001b[0m - \u001b[1mLoading IndoorScenes dataset, which is currently only for overfitting on one scene!\u001b[0m\n"
     ]
    },
    {
     "name": "stderr",
     "output_type": "stream",
     "text": [
      "\u001b[32m2023-10-12 17:10:25.198\u001b[0m | \u001b[1mINFO    \u001b[0m | \u001b[36mdata.arkit\u001b[0m:\u001b[36m__init__\u001b[0m:\u001b[36m58\u001b[0m - \u001b[1mDownsampled to voxel size: 0.01\u001b[0m\n",
      "\u001b[32m2023-10-12 17:10:25.199\u001b[0m | \u001b[1mINFO    \u001b[0m | \u001b[36mdata.arkit\u001b[0m:\u001b[36m__init__\u001b[0m:\u001b[36m59\u001b[0m - \u001b[1mNumber of points in arkit: 525143\u001b[0m\n",
      "\u001b[32m2023-10-12 17:10:25.199\u001b[0m | \u001b[1mINFO    \u001b[0m | \u001b[36mdata.arkit\u001b[0m:\u001b[36m__init__\u001b[0m:\u001b[36m60\u001b[0m - \u001b[1mNumber of points in faro: 1184923\u001b[0m\n"
     ]
    }
   ],
   "source": [
    "conf = \"configs/overfit_room.yml\"\n",
    "opt = OmegaConf.load(conf)\n",
    "opt.data.dataset = \"Indoor\"\n",
    "opt.data.npoints = 2**14\n",
    "opt.distribution_type = \"single\"\n",
    "dl, *_ = get_dataloader(opt)"
   ]
  },
  {
   "cell_type": "code",
   "execution_count": 7,
   "metadata": {},
   "outputs": [
    {
     "data": {
      "text/plain": [
       "(torch.Size([32, 16384, 3]),\n",
       " tensor(-0.9696),\n",
       " tensor(0.4939),\n",
       " tensor(-0.0037),\n",
       " tensor(0.2517))"
      ]
     },
     "execution_count": 7,
     "metadata": {},
     "output_type": "execute_result"
    }
   ],
   "source": [
    "batch = next(iter((dl)))\n",
    "data = batch[\"train_points\"]\n",
    "lowres = batch[\"train_points_lowres\"]\n",
    "data.shape, data.min(), data.max(), data.mean(), data.std()"
   ]
  },
  {
   "cell_type": "code",
   "execution_count": 8,
   "metadata": {},
   "outputs": [
    {
     "name": "stdout",
     "output_type": "stream",
     "text": [
      "\n",
      "************************************************************************\n",
      "1) Start local server:\n",
      "    cd /mnt/c/Users/mathi/Documents/GitHub/DPU/PCUpsampling/test; python -m http.server 6008\n",
      "2) Open in browser:\n",
      "    http://0.0.0.0:6008\n",
      "************************************************************************\n"
     ]
    }
   ],
   "source": [
    "import pyviz3d.visualizer as viz\n",
    "\n",
    "ps = 2\n",
    "\n",
    "v = viz.Visualizer()\n",
    "v.add_points(\"hires\", data[1, ...].numpy(), point_size=ps, visible=False)\n",
    "v.add_points(\"lowres\", lowres[1, ...].numpy(), point_size=ps, visible=True)\n",
    "v.save(\"test\")"
   ]
  },
  {
   "cell_type": "code",
   "execution_count": null,
   "metadata": {},
   "outputs": [],
   "source": [
    "from data.utils import concat_nn\n",
    "import torch"
   ]
  },
  {
   "cell_type": "code",
   "execution_count": null,
   "metadata": {},
   "outputs": [],
   "source": [
    "%%time\n",
    "x1 = torch.randn(100000, 3)\n",
    "x2 = torch.randn(100000, 3)\n",
    "y = concat_nn(x1, x2)"
   ]
  },
  {
   "cell_type": "code",
   "execution_count": null,
   "metadata": {},
   "outputs": [],
   "source": [
    "model = PVCLion(out_dim=3, input_dim=3, embed_dim=16, npoints=1_000_000, use_att=False, extra_feature_channels=3, dropout=0.1).cuda()\n",
    "# print number of parameters\n",
    "print(f\"Number of parameters: {sum(p.numel() for p in model.parameters()) / 1_000_000}M\")"
   ]
  },
  {
   "cell_type": "code",
   "execution_count": null,
   "metadata": {},
   "outputs": [],
   "source": [
    "class DotDict(dict):\n",
    "    \"\"\"\n",
    "    a dictionary that supports dot notation \n",
    "    as well as dictionary access notation \n",
    "    usage: d = DotDict() or d = DotDict({'val1':'first'})\n",
    "    set attributes: d.val2 = 'second' or d['val2'] = 'second'\n",
    "    get attributes: d.val2 or d['val2']\n",
    "    \"\"\"\n",
    "    __getattr__ = dict.__getitem__\n",
    "    __setattr__ = dict.__setitem__\n",
    "    __delattr__ = dict.__delitem__\n",
    "\n",
    "    def __init__(self, dct):\n",
    "        for key, value in dct.items():\n",
    "            if hasattr(value, 'keys'):\n",
    "                value = DotDict(value)\n",
    "            self[key] = value"
   ]
  },
  {
   "cell_type": "code",
   "execution_count": null,
   "metadata": {},
   "outputs": [],
   "source": [
    "from minkowski.minkunet import ResUNet14, TinyUnet\n",
    "\n",
    "config = DotDict\n",
    "config.bn_momentum = 0.9\n",
    "config.conv1_kernel_size = 7\n",
    "\n",
    "model = TinyUnet(in_channels=3, out_channels=3, config=config, D=3).cuda()\n",
    "print(f\"Number of parameters: {sum(p.numel() for p in model.parameters()) / 1_000_000}M\")"
   ]
  },
  {
   "cell_type": "code",
   "execution_count": null,
   "metadata": {},
   "outputs": [],
   "source": [
    "ds = IndoorScenes(root_dir=\"../../3d/\", npoints=1_000_000)"
   ]
  },
  {
   "cell_type": "code",
   "execution_count": null,
   "metadata": {},
   "outputs": [],
   "source": [
    "data = ds[0]\n",
    "\n",
    "pcond = data[\"train_points_lowres\"].unsqueeze(0).cuda()\n",
    "noise = torch.randn(1, 1_000_000, 3).cuda()\n",
    "t = torch.rand(1).cuda()\n",
    "\n",
    "# concat\n",
    "#x = torch.cat([pcond, noise], dim=1)"
   ]
  },
  {
   "cell_type": "code",
   "execution_count": null,
   "metadata": {},
   "outputs": [],
   "source": [
    "import MinkowskiEngine as ME\n",
    "\n",
    "def to_parse_tensor(coords, feats=None, voxel_size=0.001):\n",
    "    \"\"\"\n",
    "    Converts the input coordinates and features to a sparse tensor.\n",
    "\n",
    "    Args:\n",
    "        coords (torch.Tensor): The input coordinates.\n",
    "        feats (torch.Tensor): The input features.\n",
    "        voxel_size (float): The voxel size for scaling the coordinates.\n",
    "\n",
    "    Returns:\n",
    "        ME.SparseTensor: The sparse tensor with the converted coordinates and features.\n",
    "    \"\"\"\n",
    "    # scaling\n",
    "    coords = coords / voxel_size\n",
    "    b, n, c = coords.shape\n",
    "    \n",
    "    if feats is None:\n",
    "        feats = torch.zeros((b*n, 3)).to(coords.device)\n",
    "    elif feats.ndim == 3:\n",
    "        feats = feats.reshape(b*n, 3)\n",
    "\n",
    "    stensor = ME.SparseTensor(\n",
    "        features=feats, # Convert to a tensor\n",
    "        coordinates=ME.utils.batched_coordinates([c for c in coords], dtype=torch.float32, device=coords.device),  # coordinates must be defined in a integer grid. If the scale\n",
    "        quantization_mode=ME.SparseTensorQuantizationMode.UNWEIGHTED_AVERAGE  # when used with continuous coordinates, average features in the same coordinate\n",
    "    )\n",
    "    return stensor"
   ]
  },
  {
   "cell_type": "code",
   "execution_count": null,
   "metadata": {},
   "outputs": [],
   "source": [
    "xs = to_parse_tensor(coords=noise, feats=noise, voxel_size=0.001)"
   ]
  },
  {
   "cell_type": "code",
   "execution_count": null,
   "metadata": {},
   "outputs": [],
   "source": [
    "model(xs)"
   ]
  },
  {
   "cell_type": "code",
   "execution_count": null,
   "metadata": {},
   "outputs": [],
   "source": [
    "# voxelization\n",
    "from modules.voxelization import Voxelization\n",
    "from modules import functional as F\n",
    "import torch\n",
    "from torch import nn"
   ]
  },
  {
   "cell_type": "code",
   "execution_count": null,
   "metadata": {},
   "outputs": [],
   "source": [
    "testhr = torch.rand(1, 3, 2048).cuda()\n",
    "testlr = testhr[:, :, ::128]\n",
    "\n",
    "resolution = 4\n",
    "\n",
    "vox = Voxelization(resolution=resolution, normalize=True, eps=0)\n",
    "\n",
    "\n",
    "voxfhr, norm_coords_hr = vox(features=testhr, coords=testhr)\n",
    "voxflr, norm_coords_lr = vox(features=testlr, coords=testlr)\n",
    "\n",
    "devoxhr = F.trilinear_devoxelize(voxfhr, norm_coords_hr, resolution)\n",
    "devoxlr = F.trilinear_devoxelize(voxflr, norm_coords_hr, resolution)\n"
   ]
  },
  {
   "cell_type": "code",
   "execution_count": null,
   "metadata": {},
   "outputs": [],
   "source": [
    "voxfhr.shape, norm_coords_hr.shape"
   ]
  },
  {
   "cell_type": "code",
   "execution_count": null,
   "metadata": {},
   "outputs": [],
   "source": [
    "class FeatureVoxelConcatenation(nn.module):\n",
    "    def __init__(self, resolution):\n",
    "        super().__init__()\n",
    "        self.resolution = resolution\n",
    "        self.vox = Voxelization(resolution=resolution, normalize=True, eps=0)\n",
    "\n",
    "    def forward(self, x1_features, x2_features, x1_coords, x2_coords):\n",
    "        vox_x1, nc_x1 = self.vox(features=x1_features, coords=x1_coords)\n",
    "        vox_x2, nc_x2 = self.vox(features=x2_features, coords=x2_coords)\n",
    "\n",
    "        devox_mixed = F.trilinear_devoxelize(vox_x2, nc_x1, self.resolution)\n",
    "\n",
    "        return torch.cat([x1_features, devox_mixed], dim=1)\n"
   ]
  },
  {
   "cell_type": "code",
   "execution_count": null,
   "metadata": {},
   "outputs": [],
   "source": [
    "devoxlr.shape"
   ]
  },
  {
   "cell_type": "code",
   "execution_count": null,
   "metadata": {},
   "outputs": [],
   "source": [
    "voxflr.shape, voxfhr.shape"
   ]
  },
  {
   "cell_type": "code",
   "execution_count": null,
   "metadata": {},
   "outputs": [],
   "source": [
    "voxchr"
   ]
  },
  {
   "cell_type": "code",
   "execution_count": null,
   "metadata": {},
   "outputs": [],
   "source": [
    "test_vox.__len__()"
   ]
  },
  {
   "cell_type": "code",
   "execution_count": null,
   "metadata": {},
   "outputs": [],
   "source": [
    "torch.cuda.empty_cache()"
   ]
  },
  {
   "cell_type": "code",
   "execution_count": null,
   "metadata": {},
   "outputs": [],
   "source": [
    "with autocast(cache_enabled=False):\n",
    "    out = model(inputs=x, t=t)"
   ]
  },
  {
   "attachments": {},
   "cell_type": "markdown",
   "metadata": {},
   "source": [
    "# Torchsparse"
   ]
  },
  {
   "cell_type": "code",
   "execution_count": null,
   "metadata": {},
   "outputs": [],
   "source": [
    "from torch import nn\n",
    "import torch\n",
    "from torchsparse import nn as spnn\n",
    "from torchsparse.utils.quantize import sparse_quantize\n",
    "from torchsparse.utils.collate import sparse_collate_fn\n",
    "\n",
    "from torchsparse import SparseTensor\n",
    "\n",
    "class TestModel(nn.Module):\n",
    "    def __init__(self) -> None:\n",
    "        super().__init__()\n",
    "    \n",
    "        self.net = nn.Sequential(\n",
    "            spnn.Conv3d(3, 64, 3),\n",
    "            spnn.BatchNorm(64),\n",
    "            spnn.ReLU(True),\n",
    "            nn.Linear(64, 64),\n",
    "        )\n",
    "    \n",
    "    def forward(self, x):\n",
    "        x = self.net(x)\n",
    "        return x\n",
    "\n",
    "model = nn.Sequential(\n",
    "        spnn.Conv3d(3, 32, 3),\n",
    "        spnn.BatchNorm(32),\n",
    "        spnn.ReLU(True),\n",
    "        spnn.Conv3d(32, 64, 2, stride=2),\n",
    "        spnn.BatchNorm(64),\n",
    "        spnn.ReLU(True),\n",
    "        spnn.Conv3d(64, 64, 2, stride=2, transposed=True),\n",
    "        spnn.BatchNorm(64),\n",
    "        spnn.ReLU(True),\n",
    "        spnn.Conv3d(64, 32, 3),\n",
    "        spnn.BatchNorm(32),\n",
    "        spnn.ReLU(True),\n",
    "        spnn.Conv3d(32, 10, 1),\n",
    "    ).to(\"cuda\")\n",
    "\n"
   ]
  },
  {
   "cell_type": "code",
   "execution_count": null,
   "metadata": {},
   "outputs": [],
   "source": [
    "test_in = torch.randn(2048, 3).numpy()\n",
    "coords, indices = sparse_quantize(test_in, 1e-3, return_index=True)\n",
    "coords = torch.tensor(coords, dtype=torch.int)\n",
    "feats = torch.tensor(test_in[indices], dtype=torch.float)\n",
    "tensor = SparseTensor(coords=coords, feats=feats)\n",
    "\n",
    "model(tensor)"
   ]
  }
 ],
 "metadata": {
  "kernelspec": {
   "display_name": "dpmpc",
   "language": "python",
   "name": "python3"
  },
  "language_info": {
   "codemirror_mode": {
    "name": "ipython",
    "version": 3
   },
   "file_extension": ".py",
   "mimetype": "text/x-python",
   "name": "python",
   "nbconvert_exporter": "python",
   "pygments_lexer": "ipython3",
   "version": "3.10.13"
  },
  "orig_nbformat": 4
 },
 "nbformat": 4,
 "nbformat_minor": 2
}
